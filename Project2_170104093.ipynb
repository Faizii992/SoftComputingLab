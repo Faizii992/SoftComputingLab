{
  "nbformat": 4,
  "nbformat_minor": 0,
  "metadata": {
    "accelerator": "GPU",
    "colab": {
      "name": "Main  Assignment3_170104093.ipynb",
      "provenance": [],
      "collapsed_sections": []
    },
    "kernelspec": {
      "display_name": "Python 3",
      "name": "python3"
    },
    "language_info": {
      "name": "python"
    }
  },
  "cells": [
    {
      "cell_type": "markdown",
      "metadata": {
        "id": "qkvfgiyhMJIM"
      },
      "source": [
        "# CSE 4238 | Project 2\n",
        "---\n",
        "---"
      ]
    },
    {
      "cell_type": "markdown",
      "metadata": {
        "id": "oMEvxstq3oy2"
      },
      "source": [
        "# Sentiment Analysis for Tweets | Bi-LSTM | TensorFlow\n",
        "---\n",
        "---"
      ]
    },
    {
      "cell_type": "markdown",
      "metadata": {
        "id": "VYlHeLVLxYi4"
      },
      "source": [
        "## Assigned Task\n",
        "---\n",
        "\n",
        "My ID $\\Rightarrow 170104093$\n",
        "\n",
        "Last $3$ digits $\\Rightarrow 093 \\rightarrow 93$ \n",
        "\n",
        "---\n",
        "\n",
        "**Dataset Selection**\n",
        "\n",
        "Now, $93 \\% 3 = 0$ and so [Dataset 1] was assigned.\n",
        "\n",
        "\n",
        "---\n",
        "\n",
        "**Model**\n",
        "\n",
        "\n",
        "*Bidirectional RNN* needs to be used for the implementation\n"
      ]
    },
    {
      "cell_type": "code",
      "metadata": {
        "colab": {
          "base_uri": "https://localhost:8080/"
        },
        "id": "Qx9li18HYd93",
        "outputId": "370b824a-3147-4c87-84ae-4f9cdbffb41f"
      },
      "source": [
        "from google.colab import drive\n",
        "drive.mount(\"/content/drive\")"
      ],
      "execution_count": null,
      "outputs": [
        {
          "output_type": "stream",
          "name": "stdout",
          "text": [
            "Mounted at /content/drive\n"
          ]
        }
      ]
    },
    {
      "cell_type": "markdown",
      "metadata": {
        "id": "0UpWYZloNo2w"
      },
      "source": [
        "## Import Required Libraries\n",
        "---\n",
        "Importing libraries that will be required for the experiment."
      ]
    },
    {
      "cell_type": "code",
      "metadata": {
        "id": "C7RxCMuHNDlx"
      },
      "source": [
        "import numpy as np\n",
        "import pandas as pd\n",
        "import seaborn as sns\n",
        "import tensorflow as tf\n",
        "import matplotlib.pyplot as plt\n",
        "\n",
        "from keras.preprocessing.text import Tokenizer\n",
        "from keras.preprocessing.sequence import pad_sequences\n",
        "from keras.models import Sequential\n",
        "from keras import layers\n",
        "from keras import backend as K\n",
        "from keras.utils.vis_utils import plot_model\n",
        "\n",
        "from sklearn.metrics import accuracy_score\n",
        "from sklearn.metrics import precision_score\n",
        "from sklearn.metrics import recall_score\n",
        "from sklearn.metrics import f1_score\n",
        "from sklearn.metrics import confusion_matrix"
      ],
      "execution_count": null,
      "outputs": []
    },
    {
      "cell_type": "markdown",
      "metadata": {
        "id": "26yprpqqPTuQ"
      },
      "source": [
        "## Reading the Original Data\n",
        "---\n",
        "Read the original data from the CSV file found"
      ]
    },
    {
      "cell_type": "code",
      "metadata": {
        "colab": {
          "base_uri": "https://localhost:8080/",
          "height": 418
        },
        "id": "Qy1qO3NsOYcp",
        "outputId": "7532d327-031b-4e35-c9f2-1a8a59133824"
      },
      "source": [
        "data = pd.read_csv('/content/drive/MyDrive/CourseWork 4.2/SoftComp/Dataset 1.csv', engine = 'python')\n",
        "\n",
        "data"
      ],
      "execution_count": null,
      "outputs": [
        {
          "output_type": "execute_result",
          "data": {
            "text/html": [
              "<div>\n",
              "<style scoped>\n",
              "    .dataframe tbody tr th:only-of-type {\n",
              "        vertical-align: middle;\n",
              "    }\n",
              "\n",
              "    .dataframe tbody tr th {\n",
              "        vertical-align: top;\n",
              "    }\n",
              "\n",
              "    .dataframe thead th {\n",
              "        text-align: right;\n",
              "    }\n",
              "</style>\n",
              "<table border=\"1\" class=\"dataframe\">\n",
              "  <thead>\n",
              "    <tr style=\"text-align: right;\">\n",
              "      <th></th>\n",
              "      <th>message</th>\n",
              "      <th>label</th>\n",
              "    </tr>\n",
              "  </thead>\n",
              "  <tbody>\n",
              "    <tr>\n",
              "      <th>0</th>\n",
              "      <td>just had a real good moment. i missssssssss hi...</td>\n",
              "      <td>0</td>\n",
              "    </tr>\n",
              "    <tr>\n",
              "      <th>1</th>\n",
              "      <td>is reading manga  http://plurk.com/p/mzp1e</td>\n",
              "      <td>0</td>\n",
              "    </tr>\n",
              "    <tr>\n",
              "      <th>2</th>\n",
              "      <td>@comeagainjen http://twitpic.com/2y2lx - http:...</td>\n",
              "      <td>0</td>\n",
              "    </tr>\n",
              "    <tr>\n",
              "      <th>3</th>\n",
              "      <td>@lapcat Need to send 'em to my accountant tomo...</td>\n",
              "      <td>0</td>\n",
              "    </tr>\n",
              "    <tr>\n",
              "      <th>4</th>\n",
              "      <td>ADD ME ON MYSPACE!!!  myspace.com/LookThunder</td>\n",
              "      <td>0</td>\n",
              "    </tr>\n",
              "    <tr>\n",
              "      <th>...</th>\n",
              "      <td>...</td>\n",
              "      <td>...</td>\n",
              "    </tr>\n",
              "    <tr>\n",
              "      <th>10309</th>\n",
              "      <td>No Depression by G Herbo is my mood from now o...</td>\n",
              "      <td>1</td>\n",
              "    </tr>\n",
              "    <tr>\n",
              "      <th>10310</th>\n",
              "      <td>What do you do when depression succumbs the br...</td>\n",
              "      <td>1</td>\n",
              "    </tr>\n",
              "    <tr>\n",
              "      <th>10311</th>\n",
              "      <td>Ketamine Nasal Spray Shows Promise Against Dep...</td>\n",
              "      <td>1</td>\n",
              "    </tr>\n",
              "    <tr>\n",
              "      <th>10312</th>\n",
              "      <td>dont mistake a bad day with depression! everyo...</td>\n",
              "      <td>1</td>\n",
              "    </tr>\n",
              "    <tr>\n",
              "      <th>10313</th>\n",
              "      <td>0</td>\n",
              "      <td>1</td>\n",
              "    </tr>\n",
              "  </tbody>\n",
              "</table>\n",
              "<p>10314 rows × 2 columns</p>\n",
              "</div>"
            ],
            "text/plain": [
              "                                                 message  label\n",
              "0      just had a real good moment. i missssssssss hi...      0\n",
              "1             is reading manga  http://plurk.com/p/mzp1e      0\n",
              "2      @comeagainjen http://twitpic.com/2y2lx - http:...      0\n",
              "3      @lapcat Need to send 'em to my accountant tomo...      0\n",
              "4          ADD ME ON MYSPACE!!!  myspace.com/LookThunder      0\n",
              "...                                                  ...    ...\n",
              "10309  No Depression by G Herbo is my mood from now o...      1\n",
              "10310  What do you do when depression succumbs the br...      1\n",
              "10311  Ketamine Nasal Spray Shows Promise Against Dep...      1\n",
              "10312  dont mistake a bad day with depression! everyo...      1\n",
              "10313                                                  0      1\n",
              "\n",
              "[10314 rows x 2 columns]"
            ]
          },
          "metadata": {},
          "execution_count": 3
        }
      ]
    },
    {
      "cell_type": "markdown",
      "metadata": {
        "id": "1Prb7NIM00CZ"
      },
      "source": [
        "## Understanding Data\n",
        "---\n",
        "\n",
        "Randomize the data and see what are the labels along with data in CSV"
      ]
    },
    {
      "cell_type": "code",
      "metadata": {
        "colab": {
          "base_uri": "https://localhost:8080/",
          "height": 631
        },
        "id": "gAT9svnKrMI9",
        "outputId": "6e76c613-ea9f-45be-dc20-61b7650fdbb4"
      },
      "source": [
        "data = data.sample(frac = 1., random_state = 14).reset_index(drop = True)\n",
        "\n",
        "print(data['message'].value_counts(0))\n",
        "data"
      ],
      "execution_count": null,
      "outputs": [
        {
          "output_type": "stream",
          "name": "stdout",
          "text": [
            "Mom's depression tied to kids' emotional, intellectual development  https://ift.tt/2HtVZCEÂ                                                      11\n",
            "25-04-18                                                                                                                                          4\n",
            "More than 1 in 20 US children and teens have anxiety or depression  https://www.sciencedaily.com/releases/2018/04/180424184119.htmÂ â¦           4\n",
            "Good morning                                                                                                                                      3\n",
            "[Zicutake] Depression can be prevented by exercise  https://goo.gl/fb/Mu7k6tÂ                                                                     3\n",
            "                                                                                                                                                 ..\n",
            "Im having a shit ton of fun!  And Yay for meeting new friends/peeps. Lol.                                                                         1\n",
            "Sitting at the sunshine, enjoying a double espresso reading a great book... Life is good!                                                         1\n",
            "@parislisbonne I'm glad you liked it   Want more?                                                                                                 1\n",
            "@starsnostars Next they'd be making penises works of art. Of course, they're response to you would be &quot;you just don't understand!&quot;      1\n",
            "@metaphoricxeyes hmm let's see if it work! Yaks! Yaks are cool! Yaks are called water Bison in Asia! Momo was a flying bison on Avatar            1\n",
            "Name: message, Length: 10282, dtype: int64\n"
          ]
        },
        {
          "output_type": "execute_result",
          "data": {
            "text/html": [
              "<div>\n",
              "<style scoped>\n",
              "    .dataframe tbody tr th:only-of-type {\n",
              "        vertical-align: middle;\n",
              "    }\n",
              "\n",
              "    .dataframe tbody tr th {\n",
              "        vertical-align: top;\n",
              "    }\n",
              "\n",
              "    .dataframe thead th {\n",
              "        text-align: right;\n",
              "    }\n",
              "</style>\n",
              "<table border=\"1\" class=\"dataframe\">\n",
              "  <thead>\n",
              "    <tr style=\"text-align: right;\">\n",
              "      <th></th>\n",
              "      <th>message</th>\n",
              "      <th>label</th>\n",
              "    </tr>\n",
              "  </thead>\n",
              "  <tbody>\n",
              "    <tr>\n",
              "      <th>0</th>\n",
              "      <td>@1WineDude That's a really cool giveaway!</td>\n",
              "      <td>0</td>\n",
              "    </tr>\n",
              "    <tr>\n",
              "      <th>1</th>\n",
              "      <td>Need a good web series? Check out GIANTS on Yo...</td>\n",
              "      <td>1</td>\n",
              "    </tr>\n",
              "    <tr>\n",
              "      <th>2</th>\n",
              "      <td>Procastinated by doing up a new playlist for T...</td>\n",
              "      <td>0</td>\n",
              "    </tr>\n",
              "    <tr>\n",
              "      <th>3</th>\n",
              "      <td>@ZeenaBoBeena eeeek!!!! Good luck, Zeena!!! Yo...</td>\n",
              "      <td>0</td>\n",
              "    </tr>\n",
              "    <tr>\n",
              "      <th>4</th>\n",
              "      <td>@ChynaDoll74 Good morning to you too</td>\n",
              "      <td>0</td>\n",
              "    </tr>\n",
              "    <tr>\n",
              "      <th>...</th>\n",
              "      <td>...</td>\n",
              "      <td>...</td>\n",
              "    </tr>\n",
              "    <tr>\n",
              "      <th>10309</th>\n",
              "      <td>Summer session starts today  Why am I smiling.</td>\n",
              "      <td>0</td>\n",
              "    </tr>\n",
              "    <tr>\n",
              "      <th>10310</th>\n",
              "      <td>@Desireeeeee really me to.!</td>\n",
              "      <td>0</td>\n",
              "    </tr>\n",
              "    <tr>\n",
              "      <th>10311</th>\n",
              "      <td>@Jason_Pollock I think they heard you.</td>\n",
              "      <td>0</td>\n",
              "    </tr>\n",
              "    <tr>\n",
              "      <th>10312</th>\n",
              "      <td>@OliviaMaynard13 You're most welcome. I don't ...</td>\n",
              "      <td>1</td>\n",
              "    </tr>\n",
              "    <tr>\n",
              "      <th>10313</th>\n",
              "      <td>Lakers is the best team of the west conference</td>\n",
              "      <td>0</td>\n",
              "    </tr>\n",
              "  </tbody>\n",
              "</table>\n",
              "<p>10314 rows × 2 columns</p>\n",
              "</div>"
            ],
            "text/plain": [
              "                                                 message  label\n",
              "0             @1WineDude That's a really cool giveaway!       0\n",
              "1      Need a good web series? Check out GIANTS on Yo...      1\n",
              "2      Procastinated by doing up a new playlist for T...      0\n",
              "3      @ZeenaBoBeena eeeek!!!! Good luck, Zeena!!! Yo...      0\n",
              "4                  @ChynaDoll74 Good morning to you too       0\n",
              "...                                                  ...    ...\n",
              "10309     Summer session starts today  Why am I smiling.      0\n",
              "10310                       @Desireeeeee really me to.!       0\n",
              "10311            @Jason_Pollock I think they heard you.       0\n",
              "10312  @OliviaMaynard13 You're most welcome. I don't ...      1\n",
              "10313    Lakers is the best team of the west conference       0\n",
              "\n",
              "[10314 rows x 2 columns]"
            ]
          },
          "metadata": {},
          "execution_count": 4
        }
      ]
    },
    {
      "cell_type": "markdown",
      "metadata": {
        "id": "z2h8tQQq1Igx"
      },
      "source": [
        "## Dividing Dataset\n",
        "---\n",
        "Dividing dataset into a ratio of 6:2:2 as Training:Validation:Testing.\n",
        "\n",
        "Also, *EPOCH* variable is declared for controlling how many epochs are needed for training.\n",
        "\n",
        "After that, observe the data in Train, Val and Test splits.\n",
        "\n",
        "Then we converted the data into NumPy array for later usage."
      ]
    },
    {
      "cell_type": "code",
      "metadata": {
        "id": "vXk1PKKmPuNI"
      },
      "source": [
        "EPOCH = 10\n",
        "\n",
        "split_val = int(0.2 * data.shape[0])\n",
        "\n",
        "dataTest = data.iloc[-split_val :]\n",
        "dataVal = data.iloc[- 2 * split_val : -split_val]\n",
        "dataTrain = data.iloc[: - 2 * split_val]"
      ],
      "execution_count": null,
      "outputs": []
    },
    {
      "cell_type": "code",
      "metadata": {
        "colab": {
          "base_uri": "https://localhost:8080/",
          "height": 631
        },
        "id": "aMhe-A-lr4fH",
        "outputId": "9476ee32-981a-4cfe-858d-a6f5342f0ded"
      },
      "source": [
        "print(dataTrain['message'].value_counts())\n",
        "\n",
        "dataTrain"
      ],
      "execution_count": null,
      "outputs": [
        {
          "output_type": "stream",
          "name": "stdout",
          "text": [
            "Mom's depression tied to kids' emotional, intellectual development  https://ift.tt/2HtVZCEÂ                                                                                                  9\n",
            "Don't settle with #depression, #anxiety or defeat. #Jesus wants you to overcome. #faith #Prayer #bible #kalamazoo http://www.vwcenter.org/fervent-prayer.htmlÂ â¦                           2\n",
            "Good morning                                                                                                                                                                                 2\n",
            "[Zicutake] Depression can be prevented by exercise  https://goo.gl/fb/Mu7k6tÂ                                                                                                                2\n",
            "How exercising can slash the risk of depression  https://nyp.st/2vGw2KqÂ  via @nypost                                                                                                        2\n",
            "                                                                                                                                                                                            ..\n",
            "At the last count I'd received nearly 150 messages from people telling me about their own struggles since 'going public' about my depression and anxiety. As I said, really overwhelming.    1\n",
            "@sabowtage13 if i believed you, i'd be there in a second                                                                                                                                     1\n",
            "@DisneyFan10101 lol thats awesome!!!                                                                                                                                                         1\n",
            "depression  https://twitter.com/therealamelhem/status/988810539391479808Â â¦                                                                                                                1\n",
            "Team Paul: Definitely Not Painted On  http://bit.ly/gobXh                                                                                                                                    1\n",
            "Name: message, Length: 6174, dtype: int64\n"
          ]
        },
        {
          "output_type": "execute_result",
          "data": {
            "text/html": [
              "<div>\n",
              "<style scoped>\n",
              "    .dataframe tbody tr th:only-of-type {\n",
              "        vertical-align: middle;\n",
              "    }\n",
              "\n",
              "    .dataframe tbody tr th {\n",
              "        vertical-align: top;\n",
              "    }\n",
              "\n",
              "    .dataframe thead th {\n",
              "        text-align: right;\n",
              "    }\n",
              "</style>\n",
              "<table border=\"1\" class=\"dataframe\">\n",
              "  <thead>\n",
              "    <tr style=\"text-align: right;\">\n",
              "      <th></th>\n",
              "      <th>message</th>\n",
              "      <th>label</th>\n",
              "    </tr>\n",
              "  </thead>\n",
              "  <tbody>\n",
              "    <tr>\n",
              "      <th>0</th>\n",
              "      <td>@1WineDude That's a really cool giveaway!</td>\n",
              "      <td>0</td>\n",
              "    </tr>\n",
              "    <tr>\n",
              "      <th>1</th>\n",
              "      <td>Need a good web series? Check out GIANTS on Yo...</td>\n",
              "      <td>1</td>\n",
              "    </tr>\n",
              "    <tr>\n",
              "      <th>2</th>\n",
              "      <td>Procastinated by doing up a new playlist for T...</td>\n",
              "      <td>0</td>\n",
              "    </tr>\n",
              "    <tr>\n",
              "      <th>3</th>\n",
              "      <td>@ZeenaBoBeena eeeek!!!! Good luck, Zeena!!! Yo...</td>\n",
              "      <td>0</td>\n",
              "    </tr>\n",
              "    <tr>\n",
              "      <th>4</th>\n",
              "      <td>@ChynaDoll74 Good morning to you too</td>\n",
              "      <td>0</td>\n",
              "    </tr>\n",
              "    <tr>\n",
              "      <th>...</th>\n",
              "      <td>...</td>\n",
              "      <td>...</td>\n",
              "    </tr>\n",
              "    <tr>\n",
              "      <th>6185</th>\n",
              "      <td>free draw, lit easily, puffing away</td>\n",
              "      <td>0</td>\n",
              "    </tr>\n",
              "    <tr>\n",
              "      <th>6186</th>\n",
              "      <td>Depression is coming i feel it my veins just w...</td>\n",
              "      <td>1</td>\n",
              "    </tr>\n",
              "    <tr>\n",
              "      <th>6187</th>\n",
              "      <td>at gator joe's with heather and then movies to...</td>\n",
              "      <td>0</td>\n",
              "    </tr>\n",
              "    <tr>\n",
              "      <th>6188</th>\n",
              "      <td>Ughhh so over nightmares - So Instead of sleep...</td>\n",
              "      <td>0</td>\n",
              "    </tr>\n",
              "    <tr>\n",
              "      <th>6189</th>\n",
              "      <td>@pinkelephantpun Books on tape or cd makes the...</td>\n",
              "      <td>0</td>\n",
              "    </tr>\n",
              "  </tbody>\n",
              "</table>\n",
              "<p>6190 rows × 2 columns</p>\n",
              "</div>"
            ],
            "text/plain": [
              "                                                message  label\n",
              "0            @1WineDude That's a really cool giveaway!       0\n",
              "1     Need a good web series? Check out GIANTS on Yo...      1\n",
              "2     Procastinated by doing up a new playlist for T...      0\n",
              "3     @ZeenaBoBeena eeeek!!!! Good luck, Zeena!!! Yo...      0\n",
              "4                 @ChynaDoll74 Good morning to you too       0\n",
              "...                                                 ...    ...\n",
              "6185               free draw, lit easily, puffing away       0\n",
              "6186  Depression is coming i feel it my veins just w...      1\n",
              "6187  at gator joe's with heather and then movies to...      0\n",
              "6188  Ughhh so over nightmares - So Instead of sleep...      0\n",
              "6189  @pinkelephantpun Books on tape or cd makes the...      0\n",
              "\n",
              "[6190 rows x 2 columns]"
            ]
          },
          "metadata": {},
          "execution_count": 6
        }
      ]
    },
    {
      "cell_type": "code",
      "metadata": {
        "colab": {
          "base_uri": "https://localhost:8080/",
          "height": 631
        },
        "id": "l2tTMKOsr4X0",
        "outputId": "1039d992-d429-4c36-ba71-9bb5af1095e2"
      },
      "source": [
        "print(dataVal['message'].value_counts())\n",
        "\n",
        "dataVal"
      ],
      "execution_count": null,
      "outputs": [
        {
          "output_type": "stream",
          "name": "stdout",
          "text": [
            "The Stock Market Is Having its Worst Second Quarter Since the Great Depression  http://fortune.com/2018/04/02/stock-market-nyse-worst-second-quarter-depression/Â â¦    2\n",
            "@mbolden LOL, yeah that Tweet got cut off. Premature Tweets happen to the best of us                                                                                     1\n",
            "Sorting out my car insurance. Lady on phone is currently trying to get me a better deal from her boss!!                                                                  1\n",
            "another 30 mile bike ride to Mequon and back - took a much more sane route   Lake Drive back into town is awesome!                                                       1\n",
            "@shawn7155 If I don't get a chance 2 talk 2 you before hand, have a most awesomest weekend &amp; I'll miss you! Be safe and be well.  Love u!                            1\n",
            "                                                                                                                                                                        ..\n",
            "Got attacked by a cockroach. Thing flew for my neck! Was an interesting experience. Forgot they could fly. Won't anytime soon now                                        1\n",
            "http://twitpic.com/6ioas - Bella - living up to her name.                                                                                                                1\n",
            "DEPRESSION IS REAL & IDNT WANNA BE HERE !                                                                                                                                1\n",
            "@joleneees KRIS ALLEN!!! hes the best, but i hope adam wins so he has to pay simon 40% of his profits!                                                                   1\n",
            "@metaphoricxeyes hmm let's see if it work! Yaks! Yaks are cool! Yaks are called water Bison in Asia! Momo was a flying bison on Avatar                                   1\n",
            "Name: message, Length: 2061, dtype: int64\n"
          ]
        },
        {
          "output_type": "execute_result",
          "data": {
            "text/html": [
              "<div>\n",
              "<style scoped>\n",
              "    .dataframe tbody tr th:only-of-type {\n",
              "        vertical-align: middle;\n",
              "    }\n",
              "\n",
              "    .dataframe tbody tr th {\n",
              "        vertical-align: top;\n",
              "    }\n",
              "\n",
              "    .dataframe thead th {\n",
              "        text-align: right;\n",
              "    }\n",
              "</style>\n",
              "<table border=\"1\" class=\"dataframe\">\n",
              "  <thead>\n",
              "    <tr style=\"text-align: right;\">\n",
              "      <th></th>\n",
              "      <th>message</th>\n",
              "      <th>label</th>\n",
              "    </tr>\n",
              "  </thead>\n",
              "  <tbody>\n",
              "    <tr>\n",
              "      <th>6190</th>\n",
              "      <td>@pilucha ok, no more drinking away of the sorr...</td>\n",
              "      <td>0</td>\n",
              "    </tr>\n",
              "    <tr>\n",
              "      <th>6191</th>\n",
              "      <td>Earl's wearing a tie</td>\n",
              "      <td>0</td>\n",
              "    </tr>\n",
              "    <tr>\n",
              "      <th>6192</th>\n",
              "      <td>Loving @gilesbennet teaching style - like Dr S...</td>\n",
              "      <td>0</td>\n",
              "    </tr>\n",
              "    <tr>\n",
              "      <th>6193</th>\n",
              "      <td>hangin with ledd nd court.</td>\n",
              "      <td>0</td>\n",
              "    </tr>\n",
              "    <tr>\n",
              "      <th>6194</th>\n",
              "      <td>under 24 hours left to vote for @protagonize a...</td>\n",
              "      <td>0</td>\n",
              "    </tr>\n",
              "    <tr>\n",
              "      <th>...</th>\n",
              "      <td>...</td>\n",
              "      <td>...</td>\n",
              "    </tr>\n",
              "    <tr>\n",
              "      <th>8247</th>\n",
              "      <td>Look at the cute hat I got today...I look scar...</td>\n",
              "      <td>0</td>\n",
              "    </tr>\n",
              "    <tr>\n",
              "      <th>8248</th>\n",
              "      <td>@firesty hey ya )) like ur new pic  i have one...</td>\n",
              "      <td>0</td>\n",
              "    </tr>\n",
              "    <tr>\n",
              "      <th>8249</th>\n",
              "      <td>@Styla73 Thank you.</td>\n",
              "      <td>0</td>\n",
              "    </tr>\n",
              "    <tr>\n",
              "      <th>8250</th>\n",
              "      <td>@stephjonesmusic http://twitpic.com/6bclz - ah...</td>\n",
              "      <td>0</td>\n",
              "    </tr>\n",
              "    <tr>\n",
              "      <th>8251</th>\n",
              "      <td>RT @FamAcupuncture: Treating Depression With F...</td>\n",
              "      <td>1</td>\n",
              "    </tr>\n",
              "  </tbody>\n",
              "</table>\n",
              "<p>2062 rows × 2 columns</p>\n",
              "</div>"
            ],
            "text/plain": [
              "                                                message  label\n",
              "6190  @pilucha ok, no more drinking away of the sorr...      0\n",
              "6191                              Earl's wearing a tie       0\n",
              "6192  Loving @gilesbennet teaching style - like Dr S...      0\n",
              "6193                        hangin with ledd nd court.       0\n",
              "6194  under 24 hours left to vote for @protagonize a...      0\n",
              "...                                                 ...    ...\n",
              "8247  Look at the cute hat I got today...I look scar...      0\n",
              "8248  @firesty hey ya )) like ur new pic  i have one...      0\n",
              "8249                               @Styla73 Thank you.       0\n",
              "8250  @stephjonesmusic http://twitpic.com/6bclz - ah...      0\n",
              "8251  RT @FamAcupuncture: Treating Depression With F...      1\n",
              "\n",
              "[2062 rows x 2 columns]"
            ]
          },
          "metadata": {},
          "execution_count": 7
        }
      ]
    },
    {
      "cell_type": "code",
      "metadata": {
        "colab": {
          "base_uri": "https://localhost:8080/",
          "height": 651
        },
        "id": "GdtDG4BLr4Hc",
        "outputId": "012366cc-429a-4dcd-dfea-4e41c7211e48"
      },
      "source": [
        "print(dataTest['message'].value_counts())\n",
        "\n",
        "dataTest"
      ],
      "execution_count": null,
      "outputs": [
        {
          "output_type": "stream",
          "name": "stdout",
          "text": [
            "More than 1 in 20 US children and teens have anxiety or depression  https://www.sciencedaily.com/releases/2018/04/180424184119.htmÂ â¦                                                                                               2\n",
            "Lonely millennials twice as likely to experience depression or anxiety, finds study  http://www.independent.co.uk/life-style/millennials-lonely-depression-anxiety-mental-health-odds-doubling-unemployed-study-a8319686.htmlÂ â¦    2\n",
            "Mom's depression tied to kids' emotional, intellectual development  https://ift.tt/2HtVZCEÂ                                                                                                                                           2\n",
            "could not sleep last night and is back to work today yikes! first day of summer session!                                                                                                                                              1\n",
            "Watching season 4 of Weeds. Almost half way throug!  the con is over tomorrow and i get to come home!  it was fun but I miss my bed!                                                                                                  1\n",
            "                                                                                                                                                                                                                                     ..\n",
            "@DebbieDavies Same shape, different material (different purpose!)                                                                                                                                                                     1\n",
            "Off today! No wonder I love Mondays!  Movie theatre....here I come.                                                                                                                                                                   1\n",
            "@heath7s LOLOLOL i love a man in uggs.                                                                                                                                                                                                1\n",
            "so I've decided to put off my Tai Ji Quan article until I've gone to Wudang Mountain (also for free)                                                                                                                                  1\n",
            "@elliottkember just press 1 to log them out, then phone AOL if they've locked you out?                                                                                                                                                1\n",
            "Name: message, Length: 2059, dtype: int64\n"
          ]
        },
        {
          "output_type": "execute_result",
          "data": {
            "text/html": [
              "<div>\n",
              "<style scoped>\n",
              "    .dataframe tbody tr th:only-of-type {\n",
              "        vertical-align: middle;\n",
              "    }\n",
              "\n",
              "    .dataframe tbody tr th {\n",
              "        vertical-align: top;\n",
              "    }\n",
              "\n",
              "    .dataframe thead th {\n",
              "        text-align: right;\n",
              "    }\n",
              "</style>\n",
              "<table border=\"1\" class=\"dataframe\">\n",
              "  <thead>\n",
              "    <tr style=\"text-align: right;\">\n",
              "      <th></th>\n",
              "      <th>message</th>\n",
              "      <th>label</th>\n",
              "    </tr>\n",
              "  </thead>\n",
              "  <tbody>\n",
              "    <tr>\n",
              "      <th>8252</th>\n",
              "      <td>One of my mini poems. #helenswriting#mentalhea...</td>\n",
              "      <td>1</td>\n",
              "    </tr>\n",
              "    <tr>\n",
              "      <th>8253</th>\n",
              "      <td>@y2kprawn you went to college here? Didn't kno...</td>\n",
              "      <td>0</td>\n",
              "    </tr>\n",
              "    <tr>\n",
              "      <th>8254</th>\n",
              "      <td>The Young Life Podcast #1 - Depression 101:  h...</td>\n",
              "      <td>1</td>\n",
              "    </tr>\n",
              "    <tr>\n",
              "      <th>8255</th>\n",
              "      <td>'s hair is so soft today.</td>\n",
              "      <td>0</td>\n",
              "    </tr>\n",
              "    <tr>\n",
              "      <th>8256</th>\n",
              "      <td>At the point where I'm legitimately pissed whe...</td>\n",
              "      <td>1</td>\n",
              "    </tr>\n",
              "    <tr>\n",
              "      <th>...</th>\n",
              "      <td>...</td>\n",
              "      <td>...</td>\n",
              "    </tr>\n",
              "    <tr>\n",
              "      <th>10309</th>\n",
              "      <td>Summer session starts today  Why am I smiling.</td>\n",
              "      <td>0</td>\n",
              "    </tr>\n",
              "    <tr>\n",
              "      <th>10310</th>\n",
              "      <td>@Desireeeeee really me to.!</td>\n",
              "      <td>0</td>\n",
              "    </tr>\n",
              "    <tr>\n",
              "      <th>10311</th>\n",
              "      <td>@Jason_Pollock I think they heard you.</td>\n",
              "      <td>0</td>\n",
              "    </tr>\n",
              "    <tr>\n",
              "      <th>10312</th>\n",
              "      <td>@OliviaMaynard13 You're most welcome. I don't ...</td>\n",
              "      <td>1</td>\n",
              "    </tr>\n",
              "    <tr>\n",
              "      <th>10313</th>\n",
              "      <td>Lakers is the best team of the west conference</td>\n",
              "      <td>0</td>\n",
              "    </tr>\n",
              "  </tbody>\n",
              "</table>\n",
              "<p>2062 rows × 2 columns</p>\n",
              "</div>"
            ],
            "text/plain": [
              "                                                 message  label\n",
              "8252   One of my mini poems. #helenswriting#mentalhea...      1\n",
              "8253   @y2kprawn you went to college here? Didn't kno...      0\n",
              "8254   The Young Life Podcast #1 - Depression 101:  h...      1\n",
              "8255                          's hair is so soft today.       0\n",
              "8256   At the point where I'm legitimately pissed whe...      1\n",
              "...                                                  ...    ...\n",
              "10309     Summer session starts today  Why am I smiling.      0\n",
              "10310                       @Desireeeeee really me to.!       0\n",
              "10311            @Jason_Pollock I think they heard you.       0\n",
              "10312  @OliviaMaynard13 You're most welcome. I don't ...      1\n",
              "10313    Lakers is the best team of the west conference       0\n",
              "\n",
              "[2062 rows x 2 columns]"
            ]
          },
          "metadata": {},
          "execution_count": 8
        }
      ]
    },
    {
      "cell_type": "code",
      "metadata": {
        "id": "q9B1E-0HMG6C"
      },
      "source": [
        "trainX = np.array(dataTrain.iloc[:, 0])\n",
        "trainY = np.array(dataTrain.iloc[:, 1])\n",
        "\n",
        "valX = np.array(dataVal.iloc[:, 0])\n",
        "valY = np.array(dataVal.iloc[:, 1])\n",
        "\n",
        "testX = np.array(dataTest.iloc[:, 0])\n",
        "testY = np.array(dataTest.iloc[:, 1])\n",
        "\n",
        "# # To check the outcome\n",
        "# print(trainX)\n",
        "# print(trainY)\n",
        "# print(valX)\n",
        "# print(valY)\n",
        "# print(testX)\n",
        "# print(testY)\n",
        "\n",
        "# print(trainX.shape)\n",
        "# print(trainY.shape)\n",
        "# print(valX.shape)\n",
        "# print(valY.shape)\n",
        "# print(testX.shape)\n",
        "# print(testY.shape)"
      ],
      "execution_count": null,
      "outputs": []
    },
    {
      "cell_type": "markdown",
      "metadata": {
        "id": "tjQoeNp413B4"
      },
      "source": [
        "## Tokenizing Data\n",
        "---\n",
        "\n",
        "Processing the data. Use train data to fit on the text. Later use it to construct sequences for all of the train, val, test quality."
      ]
    },
    {
      "cell_type": "code",
      "metadata": {
        "id": "Oqe-uYGSwRwS"
      },
      "source": [
        "top_k = 50000\n",
        "tokenizer = tf.keras.preprocessing.text.Tokenizer(num_words = top_k,\n",
        "                                                  oov_token = \"<unk>\",\n",
        "                                                  filters = '!\"#$%&()*+.,-/:;=?@[\\]^_`{|}~')\n",
        "tokenizer.fit_on_texts(trainX)\n",
        "\n",
        "tokenizer.word_index['<pad>'] = 0\n",
        "tokenizer.index_word[0] = '<pad>'\n",
        "\n",
        "train_seqs = tokenizer.texts_to_sequences(trainX)\n",
        "val_seqs = tokenizer.texts_to_sequences(valX)\n",
        "test_seqs = tokenizer.texts_to_sequences(testX)\n",
        "\n",
        "train_seqs = tf.keras.preprocessing.sequence.pad_sequences(train_seqs, padding = 'pre')\n",
        "val_seqs = tf.keras.preprocessing.sequence.pad_sequences(val_seqs, padding = 'pre')\n",
        "test_seqs = tf.keras.preprocessing.sequence.pad_sequences(test_seqs, padding = 'pre')"
      ],
      "execution_count": null,
      "outputs": []
    },
    {
      "cell_type": "code",
      "metadata": {
        "id": "KO367UZUFaXS"
      },
      "source": [
        "# # To check the outcome\n",
        "# print(trainX)\n",
        "# print(valX)\n",
        "# print(testX)\n",
        "# print('=====')\n",
        "# print(train_seqs)\n",
        "# print(val_seqs)\n",
        "# print(test_seqs)\n",
        "# print('=====')\n",
        "# print(train_seqs.shape)\n",
        "# print(val_seqs.shape)\n",
        "# print(test_seqs.shape)"
      ],
      "execution_count": null,
      "outputs": []
    },
    {
      "cell_type": "markdown",
      "metadata": {
        "id": "lQozFOh92OQe"
      },
      "source": [
        "## Develop Model\n",
        "---\n",
        "Develop the model and print it.\n",
        "\n",
        "Train the model and observe the values."
      ]
    },
    {
      "cell_type": "code",
      "metadata": {
        "colab": {
          "base_uri": "https://localhost:8080/",
          "height": 818
        },
        "id": "p1alVk9SFqnX",
        "outputId": "07db895c-679c-4ef2-cd0e-c5c817b53ed9"
      },
      "source": [
        "model = Sequential()\n",
        "model.add(layers.Embedding(len(tokenizer.word_index), 128))\n",
        "model.add(layers.Bidirectional(layers.SimpleRNN(512, return_sequences = True,activation=\"relu\")))\n",
        "model.add(layers.Bidirectional(layers.SimpleRNN(64, return_sequences =  False,activation=\"relu\")))\n",
        "model.add(layers.Dense(1, activation = 'sigmoid'))\n",
        "\n",
        "model.compile(loss = 'binary_crossentropy', optimizer = 'adam', metrics = ['accuracy'])\n",
        "\n",
        "model.summary()\n",
        "plot_model(model, to_file = 'model_plot.png', show_shapes = True, show_layer_names = True)"
      ],
      "execution_count": null,
      "outputs": [
        {
          "output_type": "stream",
          "name": "stdout",
          "text": [
            "Model: \"sequential_11\"\n",
            "_________________________________________________________________\n",
            "Layer (type)                 Output Shape              Param #   \n",
            "=================================================================\n",
            "embedding_11 (Embedding)     (None, None, 128)         2072576   \n",
            "_________________________________________________________________\n",
            "bidirectional_28 (Bidirectio (None, None, 1024)        656384    \n",
            "_________________________________________________________________\n",
            "bidirectional_29 (Bidirectio (None, 128)               139392    \n",
            "_________________________________________________________________\n",
            "dense_5 (Dense)              (None, 1)                 129       \n",
            "=================================================================\n",
            "Total params: 2,868,481\n",
            "Trainable params: 2,868,481\n",
            "Non-trainable params: 0\n",
            "_________________________________________________________________\n"
          ]
        },
        {
          "output_type": "execute_result",
          "data": {
            "image/png": "[encoded data removed]",
            "text/plain": [
              "<IPython.core.display.Image object>"
            ]
          },
          "metadata": {},
          "execution_count": 26
        }
      ]
    },
    {
      "cell_type": "code",
      "metadata": {
        "id": "ZOgxSMAxuxXM"
      },
      "source": [
        ""
      ],
      "execution_count": null,
      "outputs": []
    },
    {
      "cell_type": "code",
      "metadata": {
        "id": "bZLW66SBvAAl"
      },
      "source": [
        ""
      ],
      "execution_count": null,
      "outputs": []
    },
    {
      "cell_type": "code",
      "metadata": {
        "id": "ln6g8ZWDvOqI"
      },
      "source": [
        ""
      ],
      "execution_count": null,
      "outputs": []
    },
    {
      "cell_type": "code",
      "metadata": {
        "id": "8Vds744SvdTi"
      },
      "source": [
        ""
      ],
      "execution_count": null,
      "outputs": []
    },
    {
      "cell_type": "code",
      "metadata": {
        "id": "V5ix5fWGvr9C"
      },
      "source": [
        ""
      ],
      "execution_count": null,
      "outputs": []
    },
    {
      "cell_type": "code",
      "metadata": {
        "id": "FRN4WvK2v6mm"
      },
      "source": [
        ""
      ],
      "execution_count": null,
      "outputs": []
    },
    {
      "cell_type": "code",
      "metadata": {
        "id": "fHkeKS7jwMbZ"
      },
      "source": [
        ""
      ],
      "execution_count": null,
      "outputs": []
    },
    {
      "cell_type": "code",
      "metadata": {
        "id": "EyaCYUgYwbE8"
      },
      "source": [
        ""
      ],
      "execution_count": null,
      "outputs": []
    },
    {
      "cell_type": "code",
      "metadata": {
        "id": "gnzDNgc6wpuv"
      },
      "source": [
        ""
      ],
      "execution_count": null,
      "outputs": []
    },
    {
      "cell_type": "code",
      "metadata": {
        "id": "0YUsTxchw4X9"
      },
      "source": [
        ""
      ],
      "execution_count": null,
      "outputs": []
    },
    {
      "cell_type": "code",
      "metadata": {
        "id": "tI-4GGVBxHBN"
      },
      "source": [
        ""
      ],
      "execution_count": null,
      "outputs": []
    },
    {
      "cell_type": "code",
      "metadata": {
        "id": "1zTacLhdxVqx"
      },
      "source": [
        ""
      ],
      "execution_count": null,
      "outputs": []
    },
    {
      "cell_type": "code",
      "metadata": {
        "id": "3PJX66jHxkUd"
      },
      "source": [
        ""
      ],
      "execution_count": null,
      "outputs": []
    },
    {
      "cell_type": "code",
      "metadata": {
        "id": "hcU1Og-yxv_F"
      },
      "source": [
        ""
      ],
      "execution_count": null,
      "outputs": []
    },
    {
      "cell_type": "code",
      "metadata": {
        "colab": {
          "base_uri": "https://localhost:8080/",
          "height": 1000
        },
        "id": "gDJ3y2IXKMXi",
        "outputId": "06fb657d-53d7-4382-f6b0-31f432ca677c"
      },
      "source": [
        "history = model.fit(train_seqs, trainY, epochs = EPOCH, validation_data = (val_seqs, valY), verbose = 1)\n",
        "\n",
        "def plot_graphs(history, string):\n",
        "  plt.plot(history.history[string])\n",
        "  plt.plot(history.history['val_'+string])\n",
        "  plt.xlabel(\"Epochs\")\n",
        "  plt.ylabel(string)\n",
        "  plt.legend([string, 'val_'+string])\n",
        "  plt.show()\n",
        "\n",
        "plot_graphs(history, 'accuracy')\n",
        "plot_graphs(history, 'loss')\n",
        "\n",
        "print('\\nEpoch No.  Train Accuracy  Train Loss     Val Accuracy    Val Loss')\n",
        "for i in range(EPOCH):\n",
        "  print('{:8d} {:10f} \\t {:10f} \\t {:10f} \\t {:10f}'.format(i + 1, history.history['accuracy'][i], history.history['loss'][i], history.history['val_accuracy'][i], history.history['val_loss'][i]))"
      ],
      "execution_count": null,
      "outputs": [
        {
          "output_type": "stream",
          "name": "stdout",
          "text": [
            "Epoch 1/10\n",
            "194/194 [==============================] - 105s 527ms/step - loss: 68594.7422 - accuracy: 0.8879 - val_loss: 0.0303 - val_accuracy: 0.9937\n",
            "Epoch 2/10\n",
            "194/194 [==============================] - 102s 526ms/step - loss: 0.0144 - accuracy: 0.9971 - val_loss: 0.0314 - val_accuracy: 0.9937\n",
            "Epoch 3/10\n",
            "194/194 [==============================] - 103s 529ms/step - loss: 0.0107 - accuracy: 0.9981 - val_loss: 0.0296 - val_accuracy: 0.9937\n",
            "Epoch 4/10\n",
            "194/194 [==============================] - 102s 526ms/step - loss: 0.0036 - accuracy: 0.9994 - val_loss: 0.0280 - val_accuracy: 0.9942\n",
            "Epoch 5/10\n",
            "194/194 [==============================] - 102s 528ms/step - loss: 0.0021 - accuracy: 0.9995 - val_loss: 0.0301 - val_accuracy: 0.9937\n",
            "Epoch 6/10\n",
            "194/194 [==============================] - 104s 538ms/step - loss: 0.0025 - accuracy: 0.9995 - val_loss: 0.0295 - val_accuracy: 0.9937\n",
            "Epoch 7/10\n",
            "194/194 [==============================] - 103s 532ms/step - loss: 0.0014 - accuracy: 0.9994 - val_loss: 0.0295 - val_accuracy: 0.9937\n",
            "Epoch 8/10\n",
            "194/194 [==============================] - 103s 529ms/step - loss: 0.0161 - accuracy: 0.9976 - val_loss: 0.0297 - val_accuracy: 0.9942\n",
            "Epoch 9/10\n",
            "194/194 [==============================] - 104s 534ms/step - loss: 0.0025 - accuracy: 0.9995 - val_loss: 0.0305 - val_accuracy: 0.9942\n",
            "Epoch 10/10\n",
            "194/194 [==============================] - 103s 530ms/step - loss: 0.0015 - accuracy: 0.9997 - val_loss: 0.0336 - val_accuracy: 0.9932\n"
          ]
        },
        {
          "output_type": "display_data",
          "data": {
            "image/png": "[encoded data removed]",
            "text/plain": [
              "<Figure size 432x288 with 1 Axes>"
            ]
          },
          "metadata": {
            "needs_background": "light"
          }
        },
        {
          "output_type": "display_data",
          "data": {
            "image/png": "[encoded data removed]",
            "text/plain": [
              "<Figure size 432x288 with 1 Axes>"
            ]
          },
          "metadata": {
            "needs_background": "light"
          }
        },
        {
          "output_type": "stream",
          "name": "stdout",
          "text": [
            "\n",
            "Epoch No.  Train Accuracy  Train Loss     Val Accuracy    Val Loss\n",
            "       1   0.887884 \t 68594.742188 \t   0.993695 \t   0.030264\n",
            "       2   0.997092 \t   0.014377 \t   0.993695 \t   0.031365\n",
            "       3   0.998061 \t   0.010711 \t   0.993695 \t   0.029598\n",
            "       4   0.999354 \t   0.003574 \t   0.994180 \t   0.028020\n",
            "       5   0.999515 \t   0.002123 \t   0.993695 \t   0.030065\n",
            "       6   0.999515 \t   0.002515 \t   0.993695 \t   0.029520\n",
            "       7   0.999354 \t   0.001418 \t   0.993695 \t   0.029472\n",
            "       8   0.997577 \t   0.016096 \t   0.994180 \t   0.029717\n",
            "       9   0.999515 \t   0.002510 \t   0.994180 \t   0.030523\n",
            "      10   0.999677 \t   0.001531 \t   0.993210 \t   0.033626\n"
          ]
        }
      ]
    },
    {
      "cell_type": "markdown",
      "metadata": {
        "id": "jSPQirEq2nKb"
      },
      "source": [
        "## Find Performance\n",
        "---\n",
        "Use the developed model to see how it performs in al the datasets.\n",
        "\n",
        "Separate performance was calculated for all the Train, Val and Test data."
      ]
    },
    {
      "cell_type": "markdown",
      "metadata": {
        "id": "TyFEiBlM20nr"
      },
      "source": [
        "### Train Data Performance"
      ]
    },
    {
      "cell_type": "code",
      "metadata": {
        "colab": {
          "base_uri": "https://localhost:8080/",
          "height": 407
        },
        "id": "IlTlpLrtgfMt",
        "outputId": "3b91d7e7-1323-45d1-b4d5-75257cb530a7"
      },
      "source": [
        "y_pred = model.predict(train_seqs)\n",
        "\n",
        "y_pred = np.where(y_pred > 0.5, 1, 0)\n",
        "y_pred = np.reshape(y_pred, (y_pred.shape[0]))\n",
        "\n",
        "loss, accuracy = model.evaluate(train_seqs, trainY, verbose = 1)\n",
        "print('Train Loss:', loss)\n",
        "print('Train Accuracy:', accuracy, '(Model Metric)')\n",
        "print('Train Accuracy:', accuracy_score(trainY, y_pred), '(sklearn Metric)')\n",
        "print('Train Precision:', precision_score(trainY, y_pred))\n",
        "print('Train Recall:', recall_score(trainY, y_pred))\n",
        "print('Train F1-score:', f1_score(trainY, y_pred))\n",
        "\n",
        "sns.heatmap(confusion_matrix(trainY, y_pred), annot = True, fmt = 'g')"
      ],
      "execution_count": null,
      "outputs": [
        {
          "output_type": "stream",
          "name": "stdout",
          "text": [
            "194/194 [==============================] - 21s 106ms/step - loss: 0.0011 - accuracy: 0.9997\n",
            "Train Loss: 0.0010786886559799314\n",
            "Train Accuracy: 0.9996768832206726 (Model Metric)\n",
            "Train Accuracy: 0.9996768982229403 (sklearn Metric)\n",
            "Train Precision: 0.9992887624466572\n",
            "Train Recall: 0.9992887624466572\n",
            "Train F1-score: 0.9992887624466572\n"
          ]
        },
        {
          "output_type": "execute_result",
          "data": {
            "text/plain": [
              "<matplotlib.axes._subplots.AxesSubplot at 0x7fde295c23d0>"
            ]
          },
          "metadata": {},
          "execution_count": 28
        },
        {
          "output_type": "display_data",
          "data": {
            "image/png": "[encoded data removed]",
            "text/plain": [
              "<Figure size 432x288 with 2 Axes>"
            ]
          },
          "metadata": {
            "needs_background": "light"
          }
        }
      ]
    },
    {
      "cell_type": "markdown",
      "metadata": {
        "id": "2iySVDHT25d6"
      },
      "source": [
        "### Val Data Performance"
      ]
    },
    {
      "cell_type": "code",
      "metadata": {
        "colab": {
          "base_uri": "https://localhost:8080/",
          "height": 412
        },
        "id": "_D7KdFvHhHOS",
        "outputId": "8f043acf-300b-4436-8505-11156abb1b0e"
      },
      "source": [
        "y_pred = model.predict(val_seqs)\n",
        "\n",
        "y_pred = np.where(y_pred > 0.5, 1, 0)\n",
        "y_pred = np.reshape(y_pred, (y_pred.shape[0]))\n",
        "\n",
        "loss, accuracy = model.evaluate(val_seqs, valY, verbose = 1)\n",
        "print('Validation Loss:', loss)\n",
        "print('Validation Accuracy:', accuracy, '(Model Metric)')\n",
        "print('Validation Accuracy:', accuracy_score(valY, y_pred), '(sklearn Metric)')\n",
        "print('Validation Precision:', precision_score(valY, y_pred))\n",
        "print('Validation Recall:', recall_score(valY, y_pred))\n",
        "print('Validation F1-score:', f1_score(valY, y_pred))\n",
        "\n",
        "sns.heatmap(confusion_matrix(valY, y_pred), annot = True, fmt = 'g')"
      ],
      "execution_count": null,
      "outputs": [
        {
          "output_type": "stream",
          "name": "stdout",
          "text": [
            "65/65 [==============================] - 6s 86ms/step - loss: 0.0336 - accuracy: 0.9932\n",
            "Validation Loss: 0.03362605348229408\n",
            "Validation Accuracy: 0.99321049451828 (Model Metric)\n",
            "Validation Accuracy: 0.9932104752667313 (sklearn Metric)\n",
            "Validation Precision: 0.9933035714285714\n",
            "Validation Recall: 0.9758771929824561\n",
            "Validation F1-score: 0.9845132743362831\n"
          ]
        },
        {
          "output_type": "execute_result",
          "data": {
            "text/plain": [
              "<matplotlib.axes._subplots.AxesSubplot at 0x7fde2584a2d0>"
            ]
          },
          "metadata": {},
          "execution_count": 29
        },
        {
          "output_type": "display_data",
          "data": {
            "image/png": "[encoded data removed]",
            "text/plain": [
              "<Figure size 432x288 with 2 Axes>"
            ]
          },
          "metadata": {
            "needs_background": "light"
          }
        }
      ]
    },
    {
      "cell_type": "markdown",
      "metadata": {
        "id": "DHudDMkw28oS"
      },
      "source": [
        "### Test Data Performance"
      ]
    },
    {
      "cell_type": "code",
      "metadata": {
        "id": "SWt3knXRMnJ6",
        "colab": {
          "base_uri": "https://localhost:8080/",
          "height": 412
        },
        "outputId": "c1a3626f-1072-4f22-9dab-076f27d09311"
      },
      "source": [
        "y_pred = model.predict(test_seqs)\n",
        "\n",
        "y_pred = np.where(y_pred > 0.5, 1, 0)\n",
        "y_pred = np.reshape(y_pred, (y_pred.shape[0]))\n",
        "\n",
        "loss, accuracy = model.evaluate(test_seqs, testY, verbose = 1)\n",
        "print('Test Loss:', loss)\n",
        "print('Test Accuracy:', accuracy, '(Model Metric)')\n",
        "print('Test Accuracy:', accuracy_score(testY, y_pred), '(sklearn Metric)')\n",
        "print('Test Precision:', precision_score(testY, y_pred))\n",
        "print('Test Recall:', recall_score(testY, y_pred))\n",
        "print('Test F1-score:', f1_score(testY, y_pred))\n",
        "\n",
        "sns.heatmap(confusion_matrix(testY, y_pred), annot = True, fmt = 'g')"
      ],
      "execution_count": null,
      "outputs": [
        {
          "output_type": "stream",
          "name": "stdout",
          "text": [
            "65/65 [==============================] - 6s 78ms/step - loss: 0.0285 - accuracy: 0.9927\n",
            "Test Loss: 0.028454797342419624\n",
            "Test Accuracy: 0.9927254915237427 (Model Metric)\n",
            "Test Accuracy: 0.992725509214355 (sklearn Metric)\n",
            "Test Precision: 0.9823399558498896\n",
            "Test Recall: 0.9845132743362832\n",
            "Test F1-score: 0.9834254143646409\n"
          ]
        },
        {
          "output_type": "execute_result",
          "data": {
            "text/plain": [
              "<matplotlib.axes._subplots.AxesSubplot at 0x7fde2d17e850>"
            ]
          },
          "metadata": {},
          "execution_count": 30
        },
        {
          "output_type": "display_data",
          "data": {
            "image/png": "[encoded data removed]",
            "text/plain": [
              "<Figure size 432x288 with 2 Axes>"
            ]
          },
          "metadata": {
            "needs_background": "light"
          }
        }
      ]
    },
    {
      "cell_type": "code",
      "metadata": {
        "id": "Z6JnddEodZ0j"
      },
      "source": [
        ""
      ],
      "execution_count": null,
      "outputs": []
    },
    {
      "cell_type": "code",
      "metadata": {
        "id": "xWD_ZWfbdmu5"
      },
      "source": [
        ""
      ],
      "execution_count": null,
      "outputs": []
    },
    {
      "cell_type": "code",
      "metadata": {
        "id": "GoUswTymd1YN"
      },
      "source": [
        ""
      ],
      "execution_count": null,
      "outputs": []
    },
    {
      "cell_type": "code",
      "metadata": {
        "id": "AhVLs_xSeEBt"
      },
      "source": [
        ""
      ],
      "execution_count": null,
      "outputs": []
    },
    {
      "cell_type": "code",
      "metadata": {
        "id": "cc3YpNuueSrK"
      },
      "source": [
        ""
      ],
      "execution_count": null,
      "outputs": []
    },
    {
      "cell_type": "code",
      "metadata": {
        "id": "mL1CXarvehUq"
      },
      "source": [
        ""
      ],
      "execution_count": null,
      "outputs": []
    },
    {
      "cell_type": "code",
      "metadata": {
        "id": "BoyOTpdQezJf"
      },
      "source": [
        ""
      ],
      "execution_count": null,
      "outputs": []
    },
    {
      "cell_type": "code",
      "metadata": {
        "id": "yZirO39OfBy0"
      },
      "source": [
        ""
      ],
      "execution_count": null,
      "outputs": []
    },
    {
      "cell_type": "code",
      "metadata": {
        "id": "-FdC9LGafQcN"
      },
      "source": [
        ""
      ],
      "execution_count": null,
      "outputs": []
    },
    {
      "cell_type": "code",
      "metadata": {
        "id": "KaM_MwdsffFt"
      },
      "source": [
        ""
      ],
      "execution_count": null,
      "outputs": []
    },
    {
      "cell_type": "code",
      "metadata": {
        "id": "WejQUl3bftvO"
      },
      "source": [
        ""
      ],
      "execution_count": null,
      "outputs": []
    },
    {
      "cell_type": "code",
      "metadata": {
        "id": "wv0vFKCif65N"
      },
      "source": [
        ""
      ],
      "execution_count": null,
      "outputs": []
    },
    {
      "cell_type": "code",
      "metadata": {
        "id": "kI_xHJUzgH3K"
      },
      "source": [
        ""
      ],
      "execution_count": null,
      "outputs": []
    },
    {
      "cell_type": "code",
      "metadata": {
        "id": "JgDUECypgWgl"
      },
      "source": [
        ""
      ],
      "execution_count": null,
      "outputs": []
    },
    {
      "cell_type": "code",
      "metadata": {
        "id": "MtjrnoA3glKD"
      },
      "source": [
        ""
      ],
      "execution_count": null,
      "outputs": []
    },
    {
      "cell_type": "code",
      "metadata": {
        "id": "xvXa0Uz6gzzk"
      },
      "source": [
        ""
      ],
      "execution_count": null,
      "outputs": []
    },
    {
      "cell_type": "code",
      "metadata": {
        "id": "OsmUNHO5hCdO"
      },
      "source": [
        ""
      ],
      "execution_count": null,
      "outputs": []
    },
    {
      "cell_type": "code",
      "metadata": {
        "id": "0-Xe3LwdhUSA"
      },
      "source": [
        ""
      ],
      "execution_count": null,
      "outputs": []
    },
    {
      "cell_type": "code",
      "metadata": {
        "id": "3hr364Y9hfwC"
      },
      "source": [
        ""
      ],
      "execution_count": null,
      "outputs": []
    },
    {
      "cell_type": "code",
      "metadata": {
        "id": "KMO49zoBhuZn"
      },
      "source": [
        ""
      ],
      "execution_count": null,
      "outputs": []
    },
    {
      "cell_type": "code",
      "metadata": {
        "id": "QEncGPCjh9DD"
      },
      "source": [
        ""
      ],
      "execution_count": null,
      "outputs": []
    },
    {
      "cell_type": "code",
      "metadata": {
        "id": "EghZKB69iLst"
      },
      "source": [
        ""
      ],
      "execution_count": null,
      "outputs": []
    },
    {
      "cell_type": "code",
      "metadata": {
        "id": "JEcqg_SRiaWQ"
      },
      "source": [
        ""
      ],
      "execution_count": null,
      "outputs": []
    },
    {
      "cell_type": "code",
      "metadata": {
        "id": "huP-mJ8misKy"
      },
      "source": [
        ""
      ],
      "execution_count": null,
      "outputs": []
    },
    {
      "cell_type": "code",
      "metadata": {
        "id": "rQ8lAEXni60U"
      },
      "source": [
        ""
      ],
      "execution_count": null,
      "outputs": []
    },
    {
      "cell_type": "code",
      "metadata": {
        "id": "A4lrmuc-jJdv"
      },
      "source": [
        ""
      ],
      "execution_count": null,
      "outputs": []
    },
    {
      "cell_type": "code",
      "metadata": {
        "id": "eQUirFoejYHU"
      },
      "source": [
        ""
      ],
      "execution_count": null,
      "outputs": []
    },
    {
      "cell_type": "code",
      "metadata": {
        "id": "psi7RTECjmw3"
      },
      "source": [
        ""
      ],
      "execution_count": null,
      "outputs": []
    },
    {
      "cell_type": "code",
      "metadata": {
        "id": "M0qAZM_1j1aZ"
      },
      "source": [
        ""
      ],
      "execution_count": null,
      "outputs": []
    },
    {
      "cell_type": "code",
      "metadata": {
        "id": "uac1GyLMkEDt"
      },
      "source": [
        ""
      ],
      "execution_count": null,
      "outputs": []
    },
    {
      "cell_type": "code",
      "metadata": {
        "id": "9OZcHOO3kStV"
      },
      "source": [
        ""
      ],
      "execution_count": null,
      "outputs": []
    },
    {
      "cell_type": "code",
      "metadata": {
        "id": "m2hsD_UckhWy"
      },
      "source": [
        ""
      ],
      "execution_count": null,
      "outputs": []
    },
    {
      "cell_type": "code",
      "metadata": {
        "id": "A1vdxL_3kwAc"
      },
      "source": [
        ""
      ],
      "execution_count": null,
      "outputs": []
    },
    {
      "cell_type": "code",
      "metadata": {
        "id": "6Q3Exsguk-qL"
      },
      "source": [
        ""
      ],
      "execution_count": null,
      "outputs": []
    },
    {
      "cell_type": "code",
      "metadata": {
        "id": "gQRxGAqDlNTZ"
      },
      "source": [
        ""
      ],
      "execution_count": null,
      "outputs": []
    },
    {
      "cell_type": "code",
      "metadata": {
        "id": "cLpdsU_plb80"
      },
      "source": [
        ""
      ],
      "execution_count": null,
      "outputs": []
    },
    {
      "cell_type": "code",
      "metadata": {
        "id": "1gRhkP8JlqmY"
      },
      "source": [
        ""
      ],
      "execution_count": null,
      "outputs": []
    },
    {
      "cell_type": "code",
      "metadata": {
        "id": "LIgDM2YPl5Ps"
      },
      "source": [
        ""
      ],
      "execution_count": null,
      "outputs": []
    },
    {
      "cell_type": "code",
      "metadata": {
        "id": "79i7ENeImH5a"
      },
      "source": [
        ""
      ],
      "execution_count": null,
      "outputs": []
    },
    {
      "cell_type": "code",
      "metadata": {
        "id": "_5ju6oQxmWi0"
      },
      "source": [
        ""
      ],
      "execution_count": null,
      "outputs": []
    },
    {
      "cell_type": "code",
      "metadata": {
        "id": "tCgPrm2-mlMR"
      },
      "source": [
        ""
      ],
      "execution_count": null,
      "outputs": []
    },
    {
      "cell_type": "code",
      "metadata": {
        "id": "rTvWMh6Gmz11"
      },
      "source": [
        ""
      ],
      "execution_count": null,
      "outputs": []
    },
    {
      "cell_type": "code",
      "metadata": {
        "id": "KFObVQninCfX"
      },
      "source": [
        ""
      ],
      "execution_count": null,
      "outputs": []
    },
    {
      "cell_type": "code",
      "metadata": {
        "id": "YCgKC9R6nRI2"
      },
      "source": [
        ""
      ],
      "execution_count": null,
      "outputs": []
    },
    {
      "cell_type": "code",
      "metadata": {
        "id": "Mxh-JBQvnfyT"
      },
      "source": [
        ""
      ],
      "execution_count": null,
      "outputs": []
    },
    {
      "cell_type": "code",
      "metadata": {
        "id": "lYBQI70Gnub0"
      },
      "source": [
        ""
      ],
      "execution_count": null,
      "outputs": []
    },
    {
      "cell_type": "code",
      "metadata": {
        "id": "Wi7uavprn9FX"
      },
      "source": [
        ""
      ],
      "execution_count": null,
      "outputs": []
    },
    {
      "cell_type": "code",
      "metadata": {
        "id": "DXsx8m0UoLu3"
      },
      "source": [
        ""
      ],
      "execution_count": null,
      "outputs": []
    },
    {
      "cell_type": "code",
      "metadata": {
        "id": "cMI31yDdoaYY"
      },
      "source": [
        ""
      ],
      "execution_count": null,
      "outputs": []
    },
    {
      "cell_type": "code",
      "metadata": {
        "id": "xPZzHV7WopBv"
      },
      "source": [
        ""
      ],
      "execution_count": null,
      "outputs": []
    },
    {
      "cell_type": "code",
      "metadata": {
        "id": "nj5Pnyhto3rZ"
      },
      "source": [
        ""
      ],
      "execution_count": null,
      "outputs": []
    },
    {
      "cell_type": "code",
      "metadata": {
        "id": "-OkWoQa8pGUv"
      },
      "source": [
        ""
      ],
      "execution_count": null,
      "outputs": []
    },
    {
      "cell_type": "code",
      "metadata": {
        "id": "8JKG5wW9pU-R"
      },
      "source": [
        ""
      ],
      "execution_count": null,
      "outputs": []
    },
    {
      "cell_type": "code",
      "metadata": {
        "id": "QHe02GwApjnw"
      },
      "source": [
        ""
      ],
      "execution_count": null,
      "outputs": []
    },
    {
      "cell_type": "code",
      "metadata": {
        "id": "qbJ4QCQDpyRX"
      },
      "source": [
        ""
      ],
      "execution_count": null,
      "outputs": []
    },
    {
      "cell_type": "code",
      "metadata": {
        "id": "OsAEbBRxqA6x"
      },
      "source": [
        ""
      ],
      "execution_count": null,
      "outputs": []
    },
    {
      "cell_type": "code",
      "metadata": {
        "id": "d19bc0UJqPka"
      },
      "source": [
        ""
      ],
      "execution_count": null,
      "outputs": []
    },
    {
      "cell_type": "code",
      "metadata": {
        "id": "iDjvolwcqeNw"
      },
      "source": [
        ""
      ],
      "execution_count": null,
      "outputs": []
    },
    {
      "cell_type": "code",
      "metadata": {
        "id": "_pfR-8h9qs3O"
      },
      "source": [
        ""
      ],
      "execution_count": null,
      "outputs": []
    },
    {
      "cell_type": "code",
      "metadata": {
        "id": "jD0Laa93q7g6"
      },
      "source": [
        ""
      ],
      "execution_count": null,
      "outputs": []
    },
    {
      "cell_type": "code",
      "metadata": {
        "id": "2iuEM-WxrKKX"
      },
      "source": [
        ""
      ],
      "execution_count": null,
      "outputs": []
    },
    {
      "cell_type": "code",
      "metadata": {
        "id": "y7URttaurYzy"
      },
      "source": [
        ""
      ],
      "execution_count": null,
      "outputs": []
    },
    {
      "cell_type": "code",
      "metadata": {
        "id": "iB457gB-rndc"
      },
      "source": [
        ""
      ],
      "execution_count": null,
      "outputs": []
    },
    {
      "cell_type": "code",
      "metadata": {
        "id": "p6kQQUler2HH"
      },
      "source": [
        ""
      ],
      "execution_count": null,
      "outputs": []
    },
    {
      "cell_type": "code",
      "metadata": {
        "id": "KMnveOk_sEwk"
      },
      "source": [
        ""
      ],
      "execution_count": null,
      "outputs": []
    },
    {
      "cell_type": "code",
      "metadata": {
        "id": "E1z7UyDtsTaF"
      },
      "source": [
        ""
      ],
      "execution_count": null,
      "outputs": []
    },
    {
      "cell_type": "code",
      "metadata": {
        "id": "EXnCN-j0siDX"
      },
      "source": [
        ""
      ],
      "execution_count": null,
      "outputs": []
    },
    {
      "cell_type": "code",
      "metadata": {
        "id": "sqqhxROasws_"
      },
      "source": [
        ""
      ],
      "execution_count": null,
      "outputs": []
    },
    {
      "cell_type": "code",
      "metadata": {
        "id": "7S-Y6UdLs_Wi"
      },
      "source": [
        ""
      ],
      "execution_count": null,
      "outputs": []
    },
    {
      "cell_type": "code",
      "metadata": {
        "id": "fs6w-dWstN_7"
      },
      "source": [
        ""
      ],
      "execution_count": null,
      "outputs": []
    },
    {
      "cell_type": "code",
      "metadata": {
        "id": "AKOZTAyetcpT"
      },
      "source": [
        ""
      ],
      "execution_count": null,
      "outputs": []
    },
    {
      "cell_type": "code",
      "metadata": {
        "id": "8OSHKHaytrTB"
      },
      "source": [
        ""
      ],
      "execution_count": null,
      "outputs": []
    },
    {
      "cell_type": "code",
      "metadata": {
        "id": "E9eJ3H8vt58X"
      },
      "source": [
        ""
      ],
      "execution_count": null,
      "outputs": []
    },
    {
      "cell_type": "code",
      "metadata": {
        "id": "Zl_z_11huIl2"
      },
      "source": [
        ""
      ],
      "execution_count": null,
      "outputs": []
    },
    {
      "cell_type": "code",
      "metadata": {
        "id": "QobeZbyuuXEO"
      },
      "source": [
        ""
      ],
      "execution_count": null,
      "outputs": []
    },
    {
      "cell_type": "code",
      "metadata": {
        "id": "aF8LhSuluies"
      },
      "source": [
        ""
      ],
      "execution_count": null,
      "outputs": []
    }
  ]
}
